{
 "cells": [
  {
   "cell_type": "code",
   "execution_count": 3,
   "id": "89836472",
   "metadata": {},
   "outputs": [
    {
     "name": "stdout",
     "output_type": "stream",
     "text": [
      "3,6,9,12,18,21,24,27,33,36,39,42,48,51,54,57,63,66,69,72,78,81,84,87,93,96,99\n"
     ]
    }
   ],
   "source": [
    "''' Question 1: Write a program that finds all numbers below 100 which are divisible by 3 \n",
    "but are not a multiple of 5.Print the numbers in a comma-separated sequence on a single line.\n",
    "'''\n",
    "# solution\n",
    "print(*(i for i in range(101) if i % 3 == 0 and i % 5 != 0), sep=\",\")"
   ]
  },
  {
   "cell_type": "code",
   "execution_count": 22,
   "id": "12f67f85",
   "metadata": {},
   "outputs": [
    {
     "name": "stdout",
     "output_type": "stream",
     "text": [
      "0 1\n",
      "1 1\n",
      "2 2\n",
      "3 6\n",
      "4 24\n",
      "5 120\n"
     ]
    }
   ],
   "source": [
    "# Question 2: Write a program that computes the factorial of a number\n",
    "\n",
    "# solution\n",
    "\n",
    "\n",
    "def factorial(x):\n",
    "    if x == 0:\n",
    "        return 1\n",
    "    return x * factorial(x - 1)\n",
    "\n",
    "\n",
    "for i in range(6):\n",
    "    print(i, factorial(i))"
   ]
  },
  {
   "cell_type": "code",
   "execution_count": 44,
   "id": "39d53ae6",
   "metadata": {},
   "outputs": [
    {
     "name": "stdout",
     "output_type": "stream",
     "text": [
      "[0, 2, 4, 6, 8, 20, 22, 24, 26, 28, 40, 42, 44, 46, 48, 60, 62, 64, 66, 68, 80, 82, 84, 86, 88, 200, 202, 204, 206, 208, 220, 222, 224, 226, 228, 240, 242, 244, 246, 248, 260, 262, 264, 266, 268, 280, 282, 284, 286, 288, 400]\n"
     ]
    }
   ],
   "source": [
    "# Question 3: Write a program that checks if all digits in a number are even\n",
    "allEvenDigits = []\n",
    "for i in range(401):\n",
    "    s = str(i)\n",
    "    throw = 1\n",
    "    for k in s:\n",
    "        if ord(k) % 2 != 0:\n",
    "            throw = 0\n",
    "    if throw == 1:\n",
    "        allEvenDigits.append(i)\n",
    "print(allEvenDigits)"
   ]
  },
  {
   "cell_type": "code",
   "execution_count": 61,
   "id": "343c7815",
   "metadata": {},
   "outputs": [
    {
     "name": "stdout",
     "output_type": "stream",
     "text": [
      "The sentence \"hello world, it's 2022\"; has 13 letters and 4 digits\n"
     ]
    }
   ],
   "source": [
    "# Question 4 write a program that counts the number of letters and the number of digits in a sentence\n",
    "\n",
    "s = \"hello world, it's 2022\"\n",
    "d = {\"DIGITS\": 0, \"LETTERS\": 0}\n",
    "for c in s:\n",
    "    if c.isdigit():\n",
    "        d[\"DIGITS\"] += 1\n",
    "    elif c.isalpha():\n",
    "        d[\"LETTERS\"] += 1\n",
    "    else:\n",
    "        pass\n",
    "# print(d)\n",
    "print(f'The sentence \"{s}\"; has {d[\"LETTERS\"]} letters and {d[\"DIGITS\"]} digits')"
   ]
  },
  {
   "cell_type": "code",
   "execution_count": 68,
   "id": "207d2f4c",
   "metadata": {},
   "outputs": [
    {
     "name": "stdout",
     "output_type": "stream",
     "text": [
      "0 1\n",
      "1 4\n",
      "2 10\n",
      "3 36\n",
      "4 268\n",
      "5 3140\n"
     ]
    }
   ],
   "source": [
    "'''  Question 5: Write a program that computes the value of x+2x+x**2 with a given digit as the value of x \n",
    "such that if x = 2 the answer is 10\n",
    "\n",
    "'''\n",
    "# solution\n",
    "\n",
    "\n",
    "def solution(x):\n",
    "    return int(x) + int(2 * x) + int(x ** x)\n",
    "\n",
    "\n",
    "for i in range(6):\n",
    "    print(i, solution(i))"
   ]
  },
  {
   "cell_type": "code",
   "execution_count": 91,
   "id": "99732bf8",
   "metadata": {},
   "outputs": [
    {
     "name": "stdout",
     "output_type": "stream",
     "text": [
      "[0, 9, 36, 81]\n"
     ]
    }
   ],
   "source": [
    "# Question 6: use list comprehension to square only the numbers divisable by three in a given list\n",
    "k = range(10)\n",
    "sqr = [i ** 2 for i in k if i % 3 == 0]\n",
    "print(sqr)"
   ]
  },
  {
   "cell_type": "code",
   "execution_count": 146,
   "id": "c925f819",
   "metadata": {},
   "outputs": [
    {
     "name": "stdout",
     "output_type": "stream",
     "text": [
      "password password12: is too long\n",
      "password Password123: is too long\n",
      "password Pas1: is too short\n",
      "password password1: has no capital letters in it\n",
      "password Password: has no numbers in it\n",
      "The list of valid passwords: ['Password1']\n"
     ]
    }
   ],
   "source": [
    "\"\"\"Question 7: Check if a password from the list passwordList fulfills the given conditions for a valid password \n",
    "Atleast 1 capital letter\n",
    "Atleast 1 small letter\n",
    "Alteast 1 number\n",
    "the password should have in between 5 to 10 characters\n",
    "\"\"\"\n",
    "\n",
    "# solution\n",
    "import re\n",
    "\n",
    "passwordList = [\n",
    "    \"password12\",\n",
    "    \"Password123\",\n",
    "    \"Pas1\",\n",
    "    \"Password1\",\n",
    "    \"password1\",\n",
    "    \"Password\",\n",
    "]\n",
    "\n",
    "valid = []\n",
    "for i in passwordList:\n",
    "    if not len(i) > 5:\n",
    "        print(f\"password {i}: is too short\")\n",
    "        continue\n",
    "    if not len(i) < 10:\n",
    "        print(f\"password {i}: is too long\")\n",
    "        continue\n",
    "    if not re.search(\"[a-z]\", i):\n",
    "        print(f\"password {i}: has no letters in it\")\n",
    "        continue\n",
    "    if not re.search(\"[A-Z]\", i):\n",
    "        print(f\"password {i}: has no capital letters in it\")\n",
    "        continue\n",
    "    if not re.search(\"[0-9]\", i):\n",
    "        print(f\"password {i}: has no numbers in it\")\n",
    "        continue\n",
    "    else:\n",
    "        pass\n",
    "    valid.append(i)\n",
    "\n",
    "print(f\"The list of valid passwords: {valid}\")"
   ]
  },
  {
   "cell_type": "code",
   "execution_count": 161,
   "id": "8e76ac61",
   "metadata": {},
   "outputs": [
    {
     "name": "stdout",
     "output_type": "stream",
     "text": [
      "[('Juth', '17', '93'), ('Luthor', '17', '93'), ('Lexor', '17', '91'), ('Lexi', '19', '80'), ('Lex', '20', '90'), ('Luther', '21', '85')]\n"
     ]
    }
   ],
   "source": [
    "''' Question 8: Given a list tupleX; Write a program that sorts it such that \n",
    "the youngest members with the highest score comes first. \n",
    "Age is the second value and the score is the third value in each of the tuples inside list tupleX. \n",
    "Sort the names in alpahbetical order if the age and score match\n",
    "\n",
    "'''\n",
    "\n",
    "\n",
    "tupleX = [\n",
    "    (\"Lex\", \"20\", \"90\"),\n",
    "    (\"Lexor\", \"17\", \"91\"),\n",
    "    (\"Luthor\", \"17\", \"93\"),\n",
    "    (\"Juth\", \"17\", \"93\"),\n",
    "    (\"Luther\", \"21\", \"85\"),\n",
    "    (\"Lexi\", \"19\", \"80\"),\n",
    "]\n",
    "\n",
    "sortedList = sorted(tupleX, key=lambda x: (int(x[1]), -int(x[2]), x[0]))\n",
    "print(sortedList)"
   ]
  },
  {
   "cell_type": "code",
   "execution_count": 158,
   "id": "3cb51ee2",
   "metadata": {},
   "outputs": [
    {
     "name": "stdout",
     "output_type": "stream",
     "text": [
      "[7, 14, 21, 28, 35, 42, 49, 56, 63, 70, 77, 84, 91, 98]\n"
     ]
    }
   ],
   "source": [
    "# Question 9: define a class that returns only numbers divisable by 7 in a given range\n",
    "class Divisible:\n",
    "    def by_seven(self, n):\n",
    "        for i in range(1, n + 1):\n",
    "            if i % 7 == 0:\n",
    "                yield i\n",
    "\n",
    "\n",
    "divisible = Divisible()\n",
    "generator = divisible.by_seven(100)\n",
    "listp = [i for i in generator]\n",
    "print(listp)\n",
    "# print(*(i for i in generator), sep = \", \")"
   ]
  },
  {
   "cell_type": "code",
   "execution_count": 165,
   "id": "4b3c5a76",
   "metadata": {},
   "outputs": [
    {
     "name": "stdout",
     "output_type": "stream",
     "text": [
      "The Car is Honda\n",
      "The Car is Toyota\n"
     ]
    }
   ],
   "source": [
    "# Question 10: Define a class which has the same parameter for the class and the instance\n",
    "class Car:\n",
    "    name = \"Car\"\n",
    "\n",
    "    def __init__(self, name=None):\n",
    "        self.name = name\n",
    "\n",
    "\n",
    "honda = Car(\"Honda\")\n",
    "print(f\"The {Car.name} is {honda.name}\")\n",
    "\n",
    "toyota = Car()\n",
    "toyota.name = \"Toyota\"\n",
    "print(f\"The {Car.name} is {toyota.name}\")"
   ]
  },
  {
   "cell_type": "code",
   "execution_count": null,
   "id": "1009a4a5",
   "metadata": {},
   "outputs": [],
   "source": []
  }
 ],
 "metadata": {
  "kernelspec": {
   "display_name": "Python 3 (ipykernel)",
   "language": "python",
   "name": "python3"
  },
  "language_info": {
   "codemirror_mode": {
    "name": "ipython",
    "version": 3
   },
   "file_extension": ".py",
   "mimetype": "text/x-python",
   "name": "python",
   "nbconvert_exporter": "python",
   "pygments_lexer": "ipython3",
   "version": "3.7.3"
  }
 },
 "nbformat": 4,
 "nbformat_minor": 5
}
