{
  "cells": [
    {
      "cell_type": "markdown",
      "metadata": {
        "id": "view-in-github",
        "colab_type": "text"
      },
      "source": [
        "<a href=\"https://colab.research.google.com/github/ChrisCastle8/Python-Interview-Coding-test/blob/main/interviewquestionsandsolutions.ipynb\" target=\"_parent\"><img src=\"https://colab.research.google.com/assets/colab-badge.svg\" alt=\"Open In Colab\"/></a>"
      ]
    },
    {
      "cell_type": "code",
      "execution_count": null,
      "id": "89836472",
      "metadata": {
        "id": "89836472",
        "outputId": "76e9acdc-b342-4b5b-a0c1-d84e1ac793f6"
      },
      "outputs": [
        {
          "name": "stdout",
          "output_type": "stream",
          "text": [
            "3,6,9,12,18,21,24,27,33,36,39,42,48,51,54,57,63,66,69,72,78,81,84,87,93,96,99\n"
          ]
        }
      ],
      "source": [
        "''' Question 1: Write a program that finds all numbers below 100 which are divisible by 3 \n",
        "but are not a multiple of 5.Print the numbers in a comma-separated sequence on a single line.\n",
        "'''\n",
        "# solution\n",
        "print(*(i for i in range(101) if i % 3 == 0 and i % 5 != 0), sep=\",\")"
      ]
    },
    {
      "cell_type": "code",
      "execution_count": null,
      "id": "12f67f85",
      "metadata": {
        "id": "12f67f85",
        "outputId": "e5c98ca5-beed-4e1b-b2aa-fc8deb3f1bd2"
      },
      "outputs": [
        {
          "name": "stdout",
          "output_type": "stream",
          "text": [
            "0 1\n",
            "1 1\n",
            "2 2\n",
            "3 6\n",
            "4 24\n",
            "5 120\n"
          ]
        }
      ],
      "source": [
        "# Question 2: Write a program that computes the factorial of a number\n",
        "\n",
        "# solution\n",
        "\n",
        "\n",
        "def factorial(x):\n",
        "    if x == 0:\n",
        "        return 1\n",
        "    return x * factorial(x - 1)\n",
        "\n",
        "\n",
        "for i in range(6):\n",
        "    print(i, factorial(i))"
      ]
    },
    {
      "cell_type": "code",
      "execution_count": null,
      "id": "39d53ae6",
      "metadata": {
        "id": "39d53ae6",
        "outputId": "1f0ba6f2-32fb-461e-fcb8-ecdb4fa70d1d"
      },
      "outputs": [
        {
          "name": "stdout",
          "output_type": "stream",
          "text": [
            "[0, 2, 4, 6, 8, 20, 22, 24, 26, 28, 40, 42, 44, 46, 48, 60, 62, 64, 66, 68, 80, 82, 84, 86, 88, 200, 202, 204, 206, 208, 220, 222, 224, 226, 228, 240, 242, 244, 246, 248, 260, 262, 264, 266, 268, 280, 282, 284, 286, 288, 400]\n"
          ]
        }
      ],
      "source": [
        "# Question 3: Write a program that checks if all digits in a number are even\n",
        "allEvenDigits = []\n",
        "for i in range(401):\n",
        "    s = str(i)\n",
        "    throw = 1\n",
        "    for k in s:\n",
        "        if ord(k) % 2 != 0:\n",
        "            throw = 0\n",
        "    if throw == 1:\n",
        "        allEvenDigits.append(i)\n",
        "print(allEvenDigits)"
      ]
    },
    {
      "cell_type": "code",
      "execution_count": null,
      "id": "343c7815",
      "metadata": {
        "id": "343c7815",
        "outputId": "1435ec77-309b-438a-87d2-751aab8a8678"
      },
      "outputs": [
        {
          "name": "stdout",
          "output_type": "stream",
          "text": [
            "The sentence \"hello world, it's 2022\"; has 13 letters and 4 digits\n"
          ]
        }
      ],
      "source": [
        "# Question 4 write a program that counts the number of letters and the number of digits in a sentence\n",
        "\n",
        "s = \"hello world, it's 2022\"\n",
        "d = {\"DIGITS\": 0, \"LETTERS\": 0}\n",
        "for c in s:\n",
        "    if c.isdigit():\n",
        "        d[\"DIGITS\"] += 1\n",
        "    elif c.isalpha():\n",
        "        d[\"LETTERS\"] += 1\n",
        "    else:\n",
        "        pass\n",
        "# print(d)\n",
        "print(f'The sentence \"{s}\"; has {d[\"LETTERS\"]} letters and {d[\"DIGITS\"]} digits')"
      ]
    },
    {
      "cell_type": "code",
      "execution_count": null,
      "id": "207d2f4c",
      "metadata": {
        "id": "207d2f4c",
        "outputId": "8a8afeae-8de6-4b3b-e9c5-ffbd3afd4e9c"
      },
      "outputs": [
        {
          "name": "stdout",
          "output_type": "stream",
          "text": [
            "0 1\n",
            "1 4\n",
            "2 10\n",
            "3 36\n",
            "4 268\n",
            "5 3140\n"
          ]
        }
      ],
      "source": [
        "'''  Question 5: Write a program that computes the value of x+2x+x**2 with a given digit as the value of x \n",
        "such that if x = 2 the answer is 10\n",
        "\n",
        "'''\n",
        "# solution\n",
        "\n",
        "\n",
        "def solution(x):\n",
        "    return int(x) + int(2 * x) + int(x ** x)\n",
        "\n",
        "\n",
        "for i in range(6):\n",
        "    print(i, solution(i))"
      ]
    },
    {
      "cell_type": "code",
      "execution_count": null,
      "id": "99732bf8",
      "metadata": {
        "id": "99732bf8",
        "outputId": "7a418e27-df18-485e-fad7-25fcab92d221"
      },
      "outputs": [
        {
          "name": "stdout",
          "output_type": "stream",
          "text": [
            "[0, 9, 36, 81]\n"
          ]
        }
      ],
      "source": [
        "# Question 6: use list comprehension to square only the numbers divisable by three in a given list\n",
        "k = range(10)\n",
        "sqr = [i ** 2 for i in k if i % 3 == 0]\n",
        "print(sqr)"
      ]
    },
    {
      "cell_type": "code",
      "execution_count": null,
      "id": "c925f819",
      "metadata": {
        "id": "c925f819",
        "outputId": "ae753927-b933-4541-f940-7d7a319144f7"
      },
      "outputs": [
        {
          "name": "stdout",
          "output_type": "stream",
          "text": [
            "password password12: is too long\n",
            "password Password123: is too long\n",
            "password Pas1: is too short\n",
            "password password1: has no capital letters in it\n",
            "password Password: has no numbers in it\n",
            "The list of valid passwords: ['Password1']\n"
          ]
        }
      ],
      "source": [
        "\"\"\"Question 7: Check if a password from the list passwordList fulfills the given conditions for a valid password \n",
        "Atleast 1 capital letter\n",
        "Atleast 1 small letter\n",
        "Alteast 1 number\n",
        "the password should have in between 5 to 10 characters\n",
        "\"\"\"\n",
        "\n",
        "# solution\n",
        "import re\n",
        "\n",
        "passwordList = [\n",
        "    \"password12\",\n",
        "    \"Password123\",\n",
        "    \"Pas1\",\n",
        "    \"Password1\",\n",
        "    \"password1\",\n",
        "    \"Password\",\n",
        "]\n",
        "\n",
        "valid = []\n",
        "for i in passwordList:\n",
        "    if not len(i) > 5:\n",
        "        print(f\"password {i}: is too short\")\n",
        "        continue\n",
        "    if not len(i) < 10:\n",
        "        print(f\"password {i}: is too long\")\n",
        "        continue\n",
        "    if not re.search(\"[a-z]\", i):\n",
        "        print(f\"password {i}: has no letters in it\")\n",
        "        continue\n",
        "    if not re.search(\"[A-Z]\", i):\n",
        "        print(f\"password {i}: has no capital letters in it\")\n",
        "        continue\n",
        "    if not re.search(\"[0-9]\", i):\n",
        "        print(f\"password {i}: has no numbers in it\")\n",
        "        continue\n",
        "    else:\n",
        "        pass\n",
        "    valid.append(i)\n",
        "\n",
        "print(f\"The list of valid passwords: {valid}\")"
      ]
    },
    {
      "cell_type": "code",
      "execution_count": null,
      "id": "8e76ac61",
      "metadata": {
        "id": "8e76ac61",
        "outputId": "8ebc4f31-4e9c-4689-96ce-4c8495014bf1"
      },
      "outputs": [
        {
          "name": "stdout",
          "output_type": "stream",
          "text": [
            "[('Juth', '17', '93'), ('Luthor', '17', '93'), ('Lexor', '17', '91'), ('Lexi', '19', '80'), ('Lex', '20', '90'), ('Luther', '21', '85')]\n"
          ]
        }
      ],
      "source": [
        "''' Question 8: Given a list tupleX; Write a program that sorts it such that \n",
        "the youngest members with the highest score comes first. \n",
        "Age is the second value and the score is the third value in each of the tuples inside list tupleX. \n",
        "Sort the names in alpahbetical order if the age and score match\n",
        "\n",
        "'''\n",
        "\n",
        "\n",
        "tupleX = [\n",
        "    (\"Lex\", \"20\", \"90\"),\n",
        "    (\"Lexor\", \"17\", \"91\"),\n",
        "    (\"Luthor\", \"17\", \"93\"),\n",
        "    (\"Juth\", \"17\", \"93\"),\n",
        "    (\"Luther\", \"21\", \"85\"),\n",
        "    (\"Lexi\", \"19\", \"80\"),\n",
        "]\n",
        "\n",
        "sortedList = sorted(tupleX, key=lambda x: (int(x[1]), -int(x[2]), x[0]))\n",
        "print(sortedList)"
      ]
    },
    {
      "cell_type": "code",
      "execution_count": null,
      "id": "3cb51ee2",
      "metadata": {
        "id": "3cb51ee2",
        "outputId": "8da3b302-8d30-4a4c-cdec-a4fb29f34fc3"
      },
      "outputs": [
        {
          "name": "stdout",
          "output_type": "stream",
          "text": [
            "[7, 14, 21, 28, 35, 42, 49, 56, 63, 70, 77, 84, 91, 98]\n"
          ]
        }
      ],
      "source": [
        "# Question 9: define a class that returns only numbers divisable by 7 in a given range\n",
        "class Divisible:\n",
        "    def by_seven(self, n):\n",
        "        for i in range(1, n + 1):\n",
        "            if i % 7 == 0:\n",
        "                yield i\n",
        "\n",
        "\n",
        "divisible = Divisible()\n",
        "generator = divisible.by_seven(100)\n",
        "listp = [i for i in generator]\n",
        "print(listp)\n",
        "# print(*(i for i in generator), sep = \", \")"
      ]
    },
    {
      "cell_type": "code",
      "execution_count": null,
      "id": "4b3c5a76",
      "metadata": {
        "id": "4b3c5a76",
        "outputId": "f5e9dac2-d97f-4f64-95b8-3c45bb92a171"
      },
      "outputs": [
        {
          "name": "stdout",
          "output_type": "stream",
          "text": [
            "The Car is Honda\n",
            "The Car is Toyota\n"
          ]
        }
      ],
      "source": [
        "# Question 10: Define a class which has the same parameter for the class and the instance\n",
        "class Car:\n",
        "    name = \"Car\"\n",
        "\n",
        "    def __init__(self, name=None):\n",
        "        self.name = name\n",
        "\n",
        "\n",
        "honda = Car(\"Honda\")\n",
        "print(f\"The {Car.name} is {honda.name}\")\n",
        "\n",
        "toyota = Car()\n",
        "toyota.name = \"Toyota\"\n",
        "print(f\"The {Car.name} is {toyota.name}\")"
      ]
    },
    {
      "cell_type": "code",
      "execution_count": null,
      "id": "1009a4a5",
      "metadata": {
        "id": "1009a4a5",
        "outputId": "4d4c015c-4a53-4abb-eaca-baae4d449a6f"
      },
      "outputs": [
        {
          "data": {
            "text/plain": [
              "[2025, 2116, 2209, 2304, 2401]"
            ]
          },
          "execution_count": 1,
          "metadata": {},
          "output_type": "execute_result"
        }
      ],
      "source": [
        "\"\"\"Question 11: Define a function which can generate a list \n",
        "where the values are square of numbers between 20 and 50 (both included). \n",
        "Then the function needs to print the last 5 elements in the list.\n",
        "\"\"\"\n",
        "\n",
        "# solution\n",
        "def squared():\n",
        "    li = []\n",
        "    for i in range(20, 50):\n",
        "        li.append(i ** 2)\n",
        "    return li[-5:]\n",
        "\n",
        "\n",
        "squared()"
      ]
    },
    {
      "cell_type": "code",
      "execution_count": null,
      "id": "434f8f04",
      "metadata": {
        "id": "434f8f04",
        "outputId": "e7ad871b-6736-424f-b997-24294c1cf86e"
      },
      "outputs": [
        {
          "name": "stdout",
          "output_type": "stream",
          "text": [
            "[3, 4]\n"
          ]
        }
      ],
      "source": [
        "# Question 12: Define a function that finds duplicates in a list\n",
        "\n",
        "# solution\n",
        "\n",
        "\n",
        "def duplicates(x):\n",
        "    return list(set([i for i in x if x.count(i) > 1]))\n",
        "\n",
        "\n",
        "print(duplicates([1, 3, 4, 6, 7, 3, 5, 4]))"
      ]
    },
    {
      "cell_type": "code",
      "execution_count": null,
      "id": "6bafb9c9",
      "metadata": {
        "id": "6bafb9c9",
        "outputId": "85efd996-c92f-47d5-c78c-fefca0ab951f"
      },
      "outputs": [
        {
          "name": "stdout",
          "output_type": "stream",
          "text": [
            "[0, 4, 16, 36, 64, 100, 144, 196, 256, 324, 400]\n"
          ]
        }
      ],
      "source": [
        "'''Question 13: Write a program that can filter all even numbers \n",
        "below 20 (with 20 inclusive) then returns their squared values\n",
        "'''\n",
        "\n",
        "li = [i for i in range(21)]\n",
        "\n",
        "newlist = list(map(lambda x: x**2, filter(lambda x: x%2 == 0, li)))\n",
        "\n",
        "print(newlist)"
      ]
    },
    {
      "cell_type": "code",
      "execution_count": null,
      "id": "0c62d25a",
      "metadata": {
        "id": "0c62d25a",
        "outputId": "47e4e85e-dc5d-4b8b-bf77-bc979d054c22"
      },
      "outputs": [
        {
          "name": "stdout",
          "output_type": "stream",
          "text": [
            "(2, 4)\n",
            "(6, 8)\n",
            "(10, 12)\n",
            "(14, 16)\n"
          ]
        }
      ],
      "source": [
        "'''Question 14: Write a program that splits tupleX \n",
        "into 4 quartets n prints each quartet in a new line \n",
        "tupleX = (2,4,6,8,10,12,14,16)\n",
        "'''\n",
        "\n",
        "#solution\n",
        "tupleX = (2,4,6,8,10,12,14,16)\n",
        "interval = int(len(tupleX)/4)\n",
        "#print(interval)\n",
        "list1 = tupleX[:interval]\n",
        "list2 = tupleX[interval:(interval*2)]\n",
        "list3 = tupleX[(interval*2): (interval*3)]\n",
        "list4 = tupleX[(interval*3): ]\n",
        "\n",
        "print(list1)\n",
        "print(list2)\n",
        "print(list3)\n",
        "print(list4)"
      ]
    },
    {
      "cell_type": "code",
      "execution_count": null,
      "id": "f716aaa2",
      "metadata": {
        "id": "f716aaa2",
        "outputId": "be78338c-b75e-46ea-8622-7dfa0a9a06e4"
      },
      "outputs": [
        {
          "data": {
            "text/plain": [
              "['nna', 'nan', 'ann']"
            ]
          },
          "execution_count": 25,
          "metadata": {},
          "output_type": "execute_result"
        }
      ],
      "source": [
        "# write a program that finds all possible combinations of a string\n",
        "\n",
        "#solution\n",
        "\n",
        "def permutation(x):\n",
        "    if len(x) <= 1:\n",
        "        return set(x)\n",
        "    \n",
        "    smaller = permutation(x[1:])\n",
        "    perms = set()\n",
        "    \n",
        "    for i in smaller:\n",
        "        for j in range(0, len(i)+1):\n",
        "            perm = i[:j] + x[0] + i[j:]\n",
        "            perms.add(perm)\n",
        "    return list(perms)\n",
        "\n",
        "permutation(\"nan\")"
      ]
    },
    {
      "cell_type": "code",
      "execution_count": null,
      "id": "723138ee",
      "metadata": {
        "id": "723138ee",
        "outputId": "518bb177-2a45-4f2e-ce79-c5906eef09f2"
      },
      "outputs": [
        {
          "name": "stdout",
          "output_type": "stream",
          "text": [
            "100101\n"
          ]
        },
        {
          "data": {
            "text/plain": [
              "2"
            ]
          },
          "execution_count": 5,
          "metadata": {},
          "output_type": "execute_result"
        }
      ],
      "source": [
        "'''\n",
        "find the binary gap: \n",
        "the longest distance between two consecutive 1's in \n",
        "the binary representation of N\n",
        "'''\n",
        "def solution(N):\n",
        "    # write your code in Python 3.6\n",
        "    binaryN = bin(N)[2:]\n",
        "    print(binaryN)\n",
        "\n",
        "    x = binaryN.strip('0').split('1')\n",
        "\n",
        "    binary_gap = len(max(x))\n",
        "\n",
        "    return binary_gap\n",
        "\n",
        "\n",
        "\n",
        "solution(37)\n"
      ]
    },
    {
      "cell_type": "code",
      "execution_count": 1,
      "id": "bbcab404",
      "metadata": {
        "colab": {
          "base_uri": "https://localhost:8080/"
        },
        "id": "bbcab404",
        "outputId": "4fcaf576-da32-40f0-f38c-650e1de450c3"
      },
      "outputs": [
        {
          "output_type": "execute_result",
          "data": {
            "text/plain": [
              "5"
            ]
          },
          "metadata": {},
          "execution_count": 1
        }
      ],
      "source": [
        "'''\n",
        "You are a programmer in a scientific team doing research into particles. As an experiment, you have measured the position of a single particle in N equally distributed moments of time. The measurement made in moment K is recorded in an array particles as particles[K].\n",
        "\n",
        "Now, your job is to count all the periods of time when the movement of the particle was stable. Those are the periods during which the particle doesn't change its velocity: i.e. the difference between any two consecutive position measurements remains the same. Note that you need at least three measurements to be sure that the particle didn't change its velocity.\n",
        "\n",
        "For Example\n",
        "1, 3, 5, 7, 9 is stable (velocity is 2)\n",
        "7, 7, 7, 7 is stable (particle stays in place)\n",
        "3, -1, -5, -9 is stable (velocity is 4)\n",
        "0, 1 is not stable (you need at least three measurements)\n",
        "1, 1, 2, 5, 7 is not stable (velocity changes between measurements)\n",
        "More formally, your task is to find all the periods of time particles[P], particles[P+1], ....particles[Q] (of length at least 3) during which the movement of the particle is stable. Note that some periods of time might be contained in others (see below example).\n",
        "'''\n",
        "def particleVelocity(particles):\n",
        "    # WRITE YOUR BRILLIANT CODE HERE\n",
        "    numStable = 0\n",
        "    if len(particles) < 3:\n",
        "       return 0\n",
        "    for i in range(len(particles) - 2):\n",
        "        for j in range(i + 1, len(particles) - 1):\n",
        "            if particles[j + 1] - particles[j] == particles[i + 1] - particles[i]:\n",
        "                numStable += 1\n",
        "            else :\n",
        "                break\n",
        "    return numStable if numStable < 1000000000 else -1\n",
        "\n",
        "particleVelocity([-1, 1, 3, 3, 3, 2, 3, 2, 1, 0])"
      ]
    },
    {
      "cell_type": "code",
      "source": [
        ""
      ],
      "metadata": {
        "id": "-MZarfNpDJ_K"
      },
      "id": "-MZarfNpDJ_K",
      "execution_count": null,
      "outputs": []
    }
  ],
  "metadata": {
    "kernelspec": {
      "display_name": "Python 3 (ipykernel)",
      "language": "python",
      "name": "python3"
    },
    "language_info": {
      "codemirror_mode": {
        "name": "ipython",
        "version": 3
      },
      "file_extension": ".py",
      "mimetype": "text/x-python",
      "name": "python",
      "nbconvert_exporter": "python",
      "pygments_lexer": "ipython3",
      "version": "3.7.3"
    },
    "colab": {
      "name": "interviewquestionsandsolutions.ipynb",
      "provenance": [],
      "include_colab_link": true
    }
  },
  "nbformat": 4,
  "nbformat_minor": 5
}